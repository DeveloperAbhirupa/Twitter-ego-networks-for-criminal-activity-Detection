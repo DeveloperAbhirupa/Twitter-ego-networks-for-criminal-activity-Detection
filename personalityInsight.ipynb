{
 "cells": [
  {
   "cell_type": "code",
   "execution_count": 9,
   "metadata": {},
   "outputs": [],
   "source": [
    "from ibm_watson import PersonalityInsightsV3\n",
    "from ibm_cloud_sdk_core.authenticators import IAMAuthenticator\n",
    "\n",
    "authenticator = IAMAuthenticator('4_vyfrdyUkp31NVo934SJ0QLkX1-oeIxUrcDSiNLUGW7')\n",
    "personality_insights = PersonalityInsightsV3(\n",
    "    version='2017-10-13',\n",
    "    authenticator=authenticator\n",
    ")\n",
    "\n",
    "personality_insights.set_service_url('https://api.eu-gb.personality-insights.watson.cloud.ibm.com/instances/2d350496-9675-4cc6-8ecc-1b2919b69e5c')"
   ]
  },
  {
   "cell_type": "code",
   "execution_count": 10,
   "metadata": {},
   "outputs": [
    {
     "name": "stdout",
     "output_type": "stream",
     "text": [
      "Hello\n"
     ]
    }
   ],
   "source": [
    "from ibm_watson import ApiException\n",
    "try:\n",
    "    print(\"Hello\")\n",
    "except ApiException as ex:\n",
    "    print (\"Method failed with status code \" + str(ex.code) + \": \" + ex.message)"
   ]
  },
  {
   "cell_type": "code",
   "execution_count": null,
   "metadata": {},
   "outputs": [],
   "source": [
    "from ibm_watson import PersonalityInsightsV3\n",
    "from ibm_cloud_sdk_core.authenticators import IAMAuthenticator\n",
    "from os.path import join, dirname\n",
    "import json\n",
    "\n",
    "authenticator = IAMAuthenticator('4_vyfrdyUkp31NVo934SJ0QLkX1-oeIxUrcDSiNLUGW7')\n",
    "personality_insights = PersonalityInsightsV3(\n",
    "    version='2017-10-13',\n",
    "    authenticator=authenticator\n",
    ")\n",
    "\n",
    "personality_insights.set_service_url('https://api.eu-gb.personality-insights.watson.cloud.ibm.com/instances/2d350496-9675-4cc6-8ecc-1b2919b69e5c')\n",
    "\n",
    "with open(join('', './data.json')) as profile_json:\n",
    "    profile = personality_insights.profile(\n",
    "        profile_json.read(),\n",
    "        'application/json',\n",
    "        content_type='application/json',\n",
    "        consumption_preferences=True,\n",
    "        raw_scores=True\n",
    "    ).get_result()\n",
    "print(json.dumps(profile, indent=2))"
   ]
  },
  {
   "cell_type": "code",
   "execution_count": null,
   "metadata": {},
   "outputs": [],
   "source": []
  }
 ],
 "metadata": {
  "kernelspec": {
   "display_name": "Python 3",
   "language": "python",
   "name": "python3"
  },
  "language_info": {
   "codemirror_mode": {
    "name": "ipython",
    "version": 3
   },
   "file_extension": ".py",
   "mimetype": "text/x-python",
   "name": "python",
   "nbconvert_exporter": "python",
   "pygments_lexer": "ipython3",
   "version": "3.6.9"
  }
 },
 "nbformat": 4,
 "nbformat_minor": 4
}
