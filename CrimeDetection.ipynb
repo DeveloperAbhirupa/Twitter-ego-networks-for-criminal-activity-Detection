{
 "cells": [
  {
   "cell_type": "code",
   "execution_count": 1,
   "metadata": {},
   "outputs": [],
   "source": [
    "import os\n",
    "import tweepy as tw\n",
    "import pandas as pd"
   ]
  },
  {
   "cell_type": "code",
   "execution_count": 2,
   "metadata": {},
   "outputs": [],
   "source": [
    "consumer_key= 'lL5jwhZjazxKKy4WUJkcRHsLb'\n",
    "consumer_secret= 'r2f5XZ8f2bNtFSY72QZfdtrsNglGzIeRaHva2LoyZpVs14i0i8'\n",
    "access_token= '995760376808591361-Lkl0hmd0zsjCopgGZgf4sbWppCWOYqb'\n",
    "access_token_secret= 'ZMk77Ahi4s9IEfiCiK7riU7BeR6D7LG4C8o2We4pJpVa4'\n"
   ]
  },
  {
   "cell_type": "code",
   "execution_count": 3,
   "metadata": {},
   "outputs": [],
   "source": [
    "auth = tw.OAuthHandler(consumer_key, consumer_secret)\n",
    "auth.set_access_token(access_token, access_token_secret)\n",
    "api = tw.API(auth, wait_on_rate_limit=True)\n"
   ]
  },
  {
   "cell_type": "code",
   "execution_count": 5,
   "metadata": {},
   "outputs": [
    {
     "data": {
      "text/plain": [
       "Status(_api=<tweepy.api.API object at 0x7fd2ccd386d8>, _json={'created_at': 'Mon Mar 09 18:10:48 +0000 2020', 'id': 1237078399346077697, 'id_str': '1237078399346077697', 'text': 'What drags me more to a #corporate sector company is #freebies, and yes, definitely #HotChocolate!', 'truncated': False, 'entities': {'hashtags': [{'text': 'corporate', 'indices': [24, 34]}, {'text': 'freebies', 'indices': [53, 62]}, {'text': 'HotChocolate', 'indices': [84, 97]}], 'symbols': [], 'user_mentions': [], 'urls': []}, 'source': '<a href=\"https://github.com/DeveloperAbhirupa\" rel=\"nofollow\">CrimeAnalysis01</a>', 'in_reply_to_status_id': None, 'in_reply_to_status_id_str': None, 'in_reply_to_user_id': None, 'in_reply_to_user_id_str': None, 'in_reply_to_screen_name': None, 'user': {'id': 995760376808591361, 'id_str': '995760376808591361', 'name': 'Abhirupa', 'screen_name': 'Abhirupa10', 'location': 'Vellore, India', 'description': 'Frontend Web Developer | Blockchain Enthusiast | Core-committee member IEEE VIT SB |  Developer Student Club', 'url': None, 'entities': {'description': {'urls': []}}, 'protected': False, 'followers_count': 2, 'friends_count': 90, 'listed_count': 0, 'created_at': 'Sun May 13 20:19:08 +0000 2018', 'favourites_count': 12, 'utc_offset': None, 'time_zone': None, 'geo_enabled': False, 'verified': False, 'statuses_count': 6, 'lang': None, 'contributors_enabled': False, 'is_translator': False, 'is_translation_enabled': False, 'profile_background_color': '000000', 'profile_background_image_url': 'http://abs.twimg.com/images/themes/theme1/bg.png', 'profile_background_image_url_https': 'https://abs.twimg.com/images/themes/theme1/bg.png', 'profile_background_tile': False, 'profile_image_url': 'http://pbs.twimg.com/profile_images/995761478585102336/0TjD00n1_normal.jpg', 'profile_image_url_https': 'https://pbs.twimg.com/profile_images/995761478585102336/0TjD00n1_normal.jpg', 'profile_link_color': 'FF691F', 'profile_sidebar_border_color': '000000', 'profile_sidebar_fill_color': '000000', 'profile_text_color': '000000', 'profile_use_background_image': False, 'has_extended_profile': True, 'default_profile': False, 'default_profile_image': False, 'following': False, 'follow_request_sent': False, 'notifications': False, 'translator_type': 'none'}, 'geo': None, 'coordinates': None, 'place': None, 'contributors': None, 'is_quote_status': False, 'retweet_count': 0, 'favorite_count': 0, 'favorited': False, 'retweeted': False, 'lang': 'en'}, created_at=datetime.datetime(2020, 3, 9, 18, 10, 48), id=1237078399346077697, id_str='1237078399346077697', text='What drags me more to a #corporate sector company is #freebies, and yes, definitely #HotChocolate!', truncated=False, entities={'hashtags': [{'text': 'corporate', 'indices': [24, 34]}, {'text': 'freebies', 'indices': [53, 62]}, {'text': 'HotChocolate', 'indices': [84, 97]}], 'symbols': [], 'user_mentions': [], 'urls': []}, source='CrimeAnalysis01', source_url='https://github.com/DeveloperAbhirupa', in_reply_to_status_id=None, in_reply_to_status_id_str=None, in_reply_to_user_id=None, in_reply_to_user_id_str=None, in_reply_to_screen_name=None, author=User(_api=<tweepy.api.API object at 0x7fd2ccd386d8>, _json={'id': 995760376808591361, 'id_str': '995760376808591361', 'name': 'Abhirupa', 'screen_name': 'Abhirupa10', 'location': 'Vellore, India', 'description': 'Frontend Web Developer | Blockchain Enthusiast | Core-committee member IEEE VIT SB |  Developer Student Club', 'url': None, 'entities': {'description': {'urls': []}}, 'protected': False, 'followers_count': 2, 'friends_count': 90, 'listed_count': 0, 'created_at': 'Sun May 13 20:19:08 +0000 2018', 'favourites_count': 12, 'utc_offset': None, 'time_zone': None, 'geo_enabled': False, 'verified': False, 'statuses_count': 6, 'lang': None, 'contributors_enabled': False, 'is_translator': False, 'is_translation_enabled': False, 'profile_background_color': '000000', 'profile_background_image_url': 'http://abs.twimg.com/images/themes/theme1/bg.png', 'profile_background_image_url_https': 'https://abs.twimg.com/images/themes/theme1/bg.png', 'profile_background_tile': False, 'profile_image_url': 'http://pbs.twimg.com/profile_images/995761478585102336/0TjD00n1_normal.jpg', 'profile_image_url_https': 'https://pbs.twimg.com/profile_images/995761478585102336/0TjD00n1_normal.jpg', 'profile_link_color': 'FF691F', 'profile_sidebar_border_color': '000000', 'profile_sidebar_fill_color': '000000', 'profile_text_color': '000000', 'profile_use_background_image': False, 'has_extended_profile': True, 'default_profile': False, 'default_profile_image': False, 'following': False, 'follow_request_sent': False, 'notifications': False, 'translator_type': 'none'}, id=995760376808591361, id_str='995760376808591361', name='Abhirupa', screen_name='Abhirupa10', location='Vellore, India', description='Frontend Web Developer | Blockchain Enthusiast | Core-committee member IEEE VIT SB |  Developer Student Club', url=None, entities={'description': {'urls': []}}, protected=False, followers_count=2, friends_count=90, listed_count=0, created_at=datetime.datetime(2018, 5, 13, 20, 19, 8), favourites_count=12, utc_offset=None, time_zone=None, geo_enabled=False, verified=False, statuses_count=6, lang=None, contributors_enabled=False, is_translator=False, is_translation_enabled=False, profile_background_color='000000', profile_background_image_url='http://abs.twimg.com/images/themes/theme1/bg.png', profile_background_image_url_https='https://abs.twimg.com/images/themes/theme1/bg.png', profile_background_tile=False, profile_image_url='http://pbs.twimg.com/profile_images/995761478585102336/0TjD00n1_normal.jpg', profile_image_url_https='https://pbs.twimg.com/profile_images/995761478585102336/0TjD00n1_normal.jpg', profile_link_color='FF691F', profile_sidebar_border_color='000000', profile_sidebar_fill_color='000000', profile_text_color='000000', profile_use_background_image=False, has_extended_profile=True, default_profile=False, default_profile_image=False, following=False, follow_request_sent=False, notifications=False, translator_type='none'), user=User(_api=<tweepy.api.API object at 0x7fd2ccd386d8>, _json={'id': 995760376808591361, 'id_str': '995760376808591361', 'name': 'Abhirupa', 'screen_name': 'Abhirupa10', 'location': 'Vellore, India', 'description': 'Frontend Web Developer | Blockchain Enthusiast | Core-committee member IEEE VIT SB |  Developer Student Club', 'url': None, 'entities': {'description': {'urls': []}}, 'protected': False, 'followers_count': 2, 'friends_count': 90, 'listed_count': 0, 'created_at': 'Sun May 13 20:19:08 +0000 2018', 'favourites_count': 12, 'utc_offset': None, 'time_zone': None, 'geo_enabled': False, 'verified': False, 'statuses_count': 6, 'lang': None, 'contributors_enabled': False, 'is_translator': False, 'is_translation_enabled': False, 'profile_background_color': '000000', 'profile_background_image_url': 'http://abs.twimg.com/images/themes/theme1/bg.png', 'profile_background_image_url_https': 'https://abs.twimg.com/images/themes/theme1/bg.png', 'profile_background_tile': False, 'profile_image_url': 'http://pbs.twimg.com/profile_images/995761478585102336/0TjD00n1_normal.jpg', 'profile_image_url_https': 'https://pbs.twimg.com/profile_images/995761478585102336/0TjD00n1_normal.jpg', 'profile_link_color': 'FF691F', 'profile_sidebar_border_color': '000000', 'profile_sidebar_fill_color': '000000', 'profile_text_color': '000000', 'profile_use_background_image': False, 'has_extended_profile': True, 'default_profile': False, 'default_profile_image': False, 'following': False, 'follow_request_sent': False, 'notifications': False, 'translator_type': 'none'}, id=995760376808591361, id_str='995760376808591361', name='Abhirupa', screen_name='Abhirupa10', location='Vellore, India', description='Frontend Web Developer | Blockchain Enthusiast | Core-committee member IEEE VIT SB |  Developer Student Club', url=None, entities={'description': {'urls': []}}, protected=False, followers_count=2, friends_count=90, listed_count=0, created_at=datetime.datetime(2018, 5, 13, 20, 19, 8), favourites_count=12, utc_offset=None, time_zone=None, geo_enabled=False, verified=False, statuses_count=6, lang=None, contributors_enabled=False, is_translator=False, is_translation_enabled=False, profile_background_color='000000', profile_background_image_url='http://abs.twimg.com/images/themes/theme1/bg.png', profile_background_image_url_https='https://abs.twimg.com/images/themes/theme1/bg.png', profile_background_tile=False, profile_image_url='http://pbs.twimg.com/profile_images/995761478585102336/0TjD00n1_normal.jpg', profile_image_url_https='https://pbs.twimg.com/profile_images/995761478585102336/0TjD00n1_normal.jpg', profile_link_color='FF691F', profile_sidebar_border_color='000000', profile_sidebar_fill_color='000000', profile_text_color='000000', profile_use_background_image=False, has_extended_profile=True, default_profile=False, default_profile_image=False, following=False, follow_request_sent=False, notifications=False, translator_type='none'), geo=None, coordinates=None, place=None, contributors=None, is_quote_status=False, retweet_count=0, favorite_count=0, favorited=False, retweeted=False, lang='en')"
      ]
     },
     "execution_count": 5,
     "metadata": {},
     "output_type": "execute_result"
    }
   ],
   "source": [
    "# Post a tweet from Python\n",
    "api.update_status(\"What drags me more to a #corporate sector company is #freebies, and yes, definitely #HotChocolate!\")\n",
    "# Your tweet has been posted!"
   ]
  },
  {
   "cell_type": "code",
   "execution_count": 35,
   "metadata": {},
   "outputs": [
    {
     "data": {
      "text/plain": [
       "['@Ilhan You claim to stand for minority rights and diversity including Muslims and women. Abortion is #murder. Does… https://t.co/dayZglq61h',\n",
       " '#Comedian #BeckyFury : #scam #romance, a possible #murder attempt &amp; #Moroccan #police\\n\\n#thejohnfleming #blog\\n\\n#scam… https://t.co/flcU1eylao',\n",
       " '#Comedian #BeckyFury : #scam #romance, a possible #murder attempt &amp; #Moroccan #police\\n\\n#thejohnfleming #blog\\n\\n#scam… https://t.co/srTc2c5I5u',\n",
       " '#Free on #KU #magical #foxglove #poison #paranormal #sweet #romance #mystery #ghost #haunted #5Stars #murder #cozy… https://t.co/yhF5cBkMAF',\n",
       " 'The Gladys Plant https://t.co/g0fvn869ck #death #grief #love #memories #murder #plants',\n",
       " '&gt;&gt;&gt; Jay Glendell is the #author of\\n\"Waking Dead\" #Medical #Murder #Mystery\\nhttps://t.co/2lJHsSH06H\\n#amreading… https://t.co/dDMUaRQtfH',\n",
       " '#zachurst #RAPE #animal #murder #sin #deadly #kills #sick #deadinside #monster #no is #rape you Fn SN POS I’d rathe… https://t.co/4vU0TwHqfa',\n",
       " '#FinishedReading Throne of Glass (Throne of Glass 1) by Sarah J. Maas - 5 of 5 stars https://t.co/IQG5Lk6urc… https://t.co/dz4jgtwQfL',\n",
       " '#Comedian #BeckyFury : #scam #romance, a possible #murder attempt &amp; #Moroccan #police\\n\\n#thejohnfleming #blog\\n\\n#scam… https://t.co/uNpRzWSNYA',\n",
       " 'The day my mother &amp; sister were murdered was the day my life imploded. And no one knew what to do or how to underst… https://t.co/RsBMqxWlCA']"
      ]
     },
     "execution_count": 35,
     "metadata": {},
     "output_type": "execute_result"
    }
   ],
   "source": [
    "search_words = \"#murder -filter:retweets\"\n",
    "date_since = \"2017-06-01\"\n",
    "\n",
    "# Collect tweets\n",
    "tweets = tw.Cursor(api.search,q=search_words,lang=\"en\",since=date_since).items(10)\n",
    "\n",
    "# Iterate and print tweets\n",
    "# Collect a list of tweets\n",
    "[tweet.text for tweet in tweets]\n",
    "\n"
   ]
  },
  {
   "cell_type": "code",
   "execution_count": 29,
   "metadata": {},
   "outputs": [
    {
     "data": {
      "text/plain": [
       "['RT @EUBIA1: How important can a #forestmanagement policy be?\\n\\nMiguel Almeida underlines the importance of @LIFE_RESILIENT studies and its u…',\n",
       " 'Could #Oregon #wildfires look this this? why its time for Bold action. #climateemergency. #ORPOL\\nhttps://t.co/tgmiQRpxl4',\n",
       " 'RT @Boehringer_AH: We join @The_NAVC to salute Dr. Stephen Jaffe, one of our senior technical services veterinarians. He worked at a recent…',\n",
       " 'RT @EUBIA1: How important can a #forestmanagement policy be?\\n\\nMiguel Almeida underlines the importance of @LIFE_RESILIENT studies and its u…',\n",
       " \"The Surreal Photos Taken by the Man Documenting the World's Most Devastating #Wildfires #photojournalism https://t.co/lakkSxyZjz\"]"
      ]
     },
     "execution_count": 29,
     "metadata": {},
     "output_type": "execute_result"
    }
   ],
   "source": [
    "new_search={'#wildfires -filter:retweets'}\n",
    "new_search\n",
    "\n",
    "tweets = tw.Cursor(api.search,\n",
    "                       q=new_search,\n",
    "                       lang=\"en\",\n",
    "                       since=date_since).items(5)\n",
    "\n",
    "[tweet.text for tweet in tweets]\n"
   ]
  },
  {
   "cell_type": "code",
   "execution_count": null,
   "metadata": {},
   "outputs": [],
   "source": []
  }
 ],
 "metadata": {
  "kernelspec": {
   "display_name": "Python 3",
   "language": "python",
   "name": "python3"
  },
  "language_info": {
   "codemirror_mode": {
    "name": "ipython",
    "version": 3
   },
   "file_extension": ".py",
   "mimetype": "text/x-python",
   "name": "python",
   "nbconvert_exporter": "python",
   "pygments_lexer": "ipython3",
   "version": "3.6.9"
  }
 },
 "nbformat": 4,
 "nbformat_minor": 4
}
