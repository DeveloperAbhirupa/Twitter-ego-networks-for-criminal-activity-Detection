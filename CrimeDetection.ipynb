{
 "cells": [
  {
   "cell_type": "code",
   "execution_count": 1,
   "metadata": {},
   "outputs": [],
   "source": [
    "import os\n",
    "import tweepy as tw\n",
    "import pandas as pd"
   ]
  },
  {
   "cell_type": "code",
   "execution_count": 2,
   "metadata": {},
   "outputs": [],
   "source": [
    "consumer_key= 'lL5jwhZjazxKKy4WUJkcRHsLb'\n",
    "consumer_secret= 'r2f5XZ8f2bNtFSY72QZfdtrsNglGzIeRaHva2LoyZpVs14i0i8'\n",
    "access_token= '995760376808591361-Lkl0hmd0zsjCopgGZgf4sbWppCWOYqb'\n",
    "access_token_secret= 'ZMk77Ahi4s9IEfiCiK7riU7BeR6D7LG4C8o2We4pJpVa4'\n"
   ]
  },
  {
   "cell_type": "code",
   "execution_count": 3,
   "metadata": {},
   "outputs": [],
   "source": [
    "auth = tw.OAuthHandler(consumer_key, consumer_secret)\n",
    "auth.set_access_token(access_token, access_token_secret)\n",
    "api = tw.API(auth, wait_on_rate_limit=True)\n"
   ]
  },
  {
   "cell_type": "code",
   "execution_count": 5,
   "metadata": {},
   "outputs": [
    {
     "data": {
      "text/plain": [
       "Status(_api=<tweepy.api.API object at 0x7fd2ccd386d8>, _json={'created_at': 'Mon Mar 09 18:10:48 +0000 2020', 'id': 1237078399346077697, 'id_str': '1237078399346077697', 'text': 'What drags me more to a #corporate sector company is #freebies, and yes, definitely #HotChocolate!', 'truncated': False, 'entities': {'hashtags': [{'text': 'corporate', 'indices': [24, 34]}, {'text': 'freebies', 'indices': [53, 62]}, {'text': 'HotChocolate', 'indices': [84, 97]}], 'symbols': [], 'user_mentions': [], 'urls': []}, 'source': '<a href=\"https://github.com/DeveloperAbhirupa\" rel=\"nofollow\">CrimeAnalysis01</a>', 'in_reply_to_status_id': None, 'in_reply_to_status_id_str': None, 'in_reply_to_user_id': None, 'in_reply_to_user_id_str': None, 'in_reply_to_screen_name': None, 'user': {'id': 995760376808591361, 'id_str': '995760376808591361', 'name': 'Abhirupa', 'screen_name': 'Abhirupa10', 'location': 'Vellore, India', 'description': 'Frontend Web Developer | Blockchain Enthusiast | Core-committee member IEEE VIT SB |  Developer Student Club', 'url': None, 'entities': {'description': {'urls': []}}, 'protected': False, 'followers_count': 2, 'friends_count': 90, 'listed_count': 0, 'created_at': 'Sun May 13 20:19:08 +0000 2018', 'favourites_count': 12, 'utc_offset': None, 'time_zone': None, 'geo_enabled': False, 'verified': False, 'statuses_count': 6, 'lang': None, 'contributors_enabled': False, 'is_translator': False, 'is_translation_enabled': False, 'profile_background_color': '000000', 'profile_background_image_url': 'http://abs.twimg.com/images/themes/theme1/bg.png', 'profile_background_image_url_https': 'https://abs.twimg.com/images/themes/theme1/bg.png', 'profile_background_tile': False, 'profile_image_url': 'http://pbs.twimg.com/profile_images/995761478585102336/0TjD00n1_normal.jpg', 'profile_image_url_https': 'https://pbs.twimg.com/profile_images/995761478585102336/0TjD00n1_normal.jpg', 'profile_link_color': 'FF691F', 'profile_sidebar_border_color': '000000', 'profile_sidebar_fill_color': '000000', 'profile_text_color': '000000', 'profile_use_background_image': False, 'has_extended_profile': True, 'default_profile': False, 'default_profile_image': False, 'following': False, 'follow_request_sent': False, 'notifications': False, 'translator_type': 'none'}, 'geo': None, 'coordinates': None, 'place': None, 'contributors': None, 'is_quote_status': False, 'retweet_count': 0, 'favorite_count': 0, 'favorited': False, 'retweeted': False, 'lang': 'en'}, created_at=datetime.datetime(2020, 3, 9, 18, 10, 48), id=1237078399346077697, id_str='1237078399346077697', text='What drags me more to a #corporate sector company is #freebies, and yes, definitely #HotChocolate!', truncated=False, entities={'hashtags': [{'text': 'corporate', 'indices': [24, 34]}, {'text': 'freebies', 'indices': [53, 62]}, {'text': 'HotChocolate', 'indices': [84, 97]}], 'symbols': [], 'user_mentions': [], 'urls': []}, source='CrimeAnalysis01', source_url='https://github.com/DeveloperAbhirupa', in_reply_to_status_id=None, in_reply_to_status_id_str=None, in_reply_to_user_id=None, in_reply_to_user_id_str=None, in_reply_to_screen_name=None, author=User(_api=<tweepy.api.API object at 0x7fd2ccd386d8>, _json={'id': 995760376808591361, 'id_str': '995760376808591361', 'name': 'Abhirupa', 'screen_name': 'Abhirupa10', 'location': 'Vellore, India', 'description': 'Frontend Web Developer | Blockchain Enthusiast | Core-committee member IEEE VIT SB |  Developer Student Club', 'url': None, 'entities': {'description': {'urls': []}}, 'protected': False, 'followers_count': 2, 'friends_count': 90, 'listed_count': 0, 'created_at': 'Sun May 13 20:19:08 +0000 2018', 'favourites_count': 12, 'utc_offset': None, 'time_zone': None, 'geo_enabled': False, 'verified': False, 'statuses_count': 6, 'lang': None, 'contributors_enabled': False, 'is_translator': False, 'is_translation_enabled': False, 'profile_background_color': '000000', 'profile_background_image_url': 'http://abs.twimg.com/images/themes/theme1/bg.png', 'profile_background_image_url_https': 'https://abs.twimg.com/images/themes/theme1/bg.png', 'profile_background_tile': False, 'profile_image_url': 'http://pbs.twimg.com/profile_images/995761478585102336/0TjD00n1_normal.jpg', 'profile_image_url_https': 'https://pbs.twimg.com/profile_images/995761478585102336/0TjD00n1_normal.jpg', 'profile_link_color': 'FF691F', 'profile_sidebar_border_color': '000000', 'profile_sidebar_fill_color': '000000', 'profile_text_color': '000000', 'profile_use_background_image': False, 'has_extended_profile': True, 'default_profile': False, 'default_profile_image': False, 'following': False, 'follow_request_sent': False, 'notifications': False, 'translator_type': 'none'}, id=995760376808591361, id_str='995760376808591361', name='Abhirupa', screen_name='Abhirupa10', location='Vellore, India', description='Frontend Web Developer | Blockchain Enthusiast | Core-committee member IEEE VIT SB |  Developer Student Club', url=None, entities={'description': {'urls': []}}, protected=False, followers_count=2, friends_count=90, listed_count=0, created_at=datetime.datetime(2018, 5, 13, 20, 19, 8), favourites_count=12, utc_offset=None, time_zone=None, geo_enabled=False, verified=False, statuses_count=6, lang=None, contributors_enabled=False, is_translator=False, is_translation_enabled=False, profile_background_color='000000', profile_background_image_url='http://abs.twimg.com/images/themes/theme1/bg.png', profile_background_image_url_https='https://abs.twimg.com/images/themes/theme1/bg.png', profile_background_tile=False, profile_image_url='http://pbs.twimg.com/profile_images/995761478585102336/0TjD00n1_normal.jpg', profile_image_url_https='https://pbs.twimg.com/profile_images/995761478585102336/0TjD00n1_normal.jpg', profile_link_color='FF691F', profile_sidebar_border_color='000000', profile_sidebar_fill_color='000000', profile_text_color='000000', profile_use_background_image=False, has_extended_profile=True, default_profile=False, default_profile_image=False, following=False, follow_request_sent=False, notifications=False, translator_type='none'), user=User(_api=<tweepy.api.API object at 0x7fd2ccd386d8>, _json={'id': 995760376808591361, 'id_str': '995760376808591361', 'name': 'Abhirupa', 'screen_name': 'Abhirupa10', 'location': 'Vellore, India', 'description': 'Frontend Web Developer | Blockchain Enthusiast | Core-committee member IEEE VIT SB |  Developer Student Club', 'url': None, 'entities': {'description': {'urls': []}}, 'protected': False, 'followers_count': 2, 'friends_count': 90, 'listed_count': 0, 'created_at': 'Sun May 13 20:19:08 +0000 2018', 'favourites_count': 12, 'utc_offset': None, 'time_zone': None, 'geo_enabled': False, 'verified': False, 'statuses_count': 6, 'lang': None, 'contributors_enabled': False, 'is_translator': False, 'is_translation_enabled': False, 'profile_background_color': '000000', 'profile_background_image_url': 'http://abs.twimg.com/images/themes/theme1/bg.png', 'profile_background_image_url_https': 'https://abs.twimg.com/images/themes/theme1/bg.png', 'profile_background_tile': False, 'profile_image_url': 'http://pbs.twimg.com/profile_images/995761478585102336/0TjD00n1_normal.jpg', 'profile_image_url_https': 'https://pbs.twimg.com/profile_images/995761478585102336/0TjD00n1_normal.jpg', 'profile_link_color': 'FF691F', 'profile_sidebar_border_color': '000000', 'profile_sidebar_fill_color': '000000', 'profile_text_color': '000000', 'profile_use_background_image': False, 'has_extended_profile': True, 'default_profile': False, 'default_profile_image': False, 'following': False, 'follow_request_sent': False, 'notifications': False, 'translator_type': 'none'}, id=995760376808591361, id_str='995760376808591361', name='Abhirupa', screen_name='Abhirupa10', location='Vellore, India', description='Frontend Web Developer | Blockchain Enthusiast | Core-committee member IEEE VIT SB |  Developer Student Club', url=None, entities={'description': {'urls': []}}, protected=False, followers_count=2, friends_count=90, listed_count=0, created_at=datetime.datetime(2018, 5, 13, 20, 19, 8), favourites_count=12, utc_offset=None, time_zone=None, geo_enabled=False, verified=False, statuses_count=6, lang=None, contributors_enabled=False, is_translator=False, is_translation_enabled=False, profile_background_color='000000', profile_background_image_url='http://abs.twimg.com/images/themes/theme1/bg.png', profile_background_image_url_https='https://abs.twimg.com/images/themes/theme1/bg.png', profile_background_tile=False, profile_image_url='http://pbs.twimg.com/profile_images/995761478585102336/0TjD00n1_normal.jpg', profile_image_url_https='https://pbs.twimg.com/profile_images/995761478585102336/0TjD00n1_normal.jpg', profile_link_color='FF691F', profile_sidebar_border_color='000000', profile_sidebar_fill_color='000000', profile_text_color='000000', profile_use_background_image=False, has_extended_profile=True, default_profile=False, default_profile_image=False, following=False, follow_request_sent=False, notifications=False, translator_type='none'), geo=None, coordinates=None, place=None, contributors=None, is_quote_status=False, retweet_count=0, favorite_count=0, favorited=False, retweeted=False, lang='en')"
      ]
     },
     "execution_count": 5,
     "metadata": {},
     "output_type": "execute_result"
    }
   ],
   "source": [
    "# Post a tweet from Python\n",
    "api.update_status(\"What drags me more to a #corporate sector company is #freebies, and yes, definitely #HotChocolate!\")\n",
    "# Your tweet has been posted!"
   ]
  },
  {
   "cell_type": "code",
   "execution_count": 52,
   "metadata": {},
   "outputs": [
    {
     "name": "stdout",
     "output_type": "stream",
     "text": [
      "70B42EF1 :Battle ID\n",
      "I need backup!\n",
      "The Four Primarchs\n",
      "https://t.co/rdMoO24emq \n",
      "\n",
      "RT @davidcicilline: One year ago today, the House passed the most sweeping ethics and government reform package in nearly a half century.… \n",
      "\n",
      "RT @ellyseptiani11: OPEN VIDIO CALL SEX,BO,NO TIPU,NO PHP Whatsap : 0853 7868 0833 \n",
      "Line : realaccoun_elly\n",
      "Selain acound ini acoound fake\n",
      "#… \n",
      "\n",
      "@sashawonderr I love the picture on the wall \n",
      "\n",
      "RT @zoemaguires: He waves to the crowd👏🏻👏🏻with Uncle Harry @HarryMaguire93 @ManUtd https://t.co/QKhKR0o0De \n",
      "\n",
      "RT @prettysassy_: I think I will make an alt account pretending to be a handsome romantic man just to see how women really act in DMs 👀 \n",
      "\n",
      "RT @BevinnotKevin: Summer is officially here in NYC \n",
      "\n",
      "RT @meaganmday: My apolitical great-grandparents became loyal New Deal Democrats overnight because the Rural Electrification Administration… \n",
      "\n",
      "RT @_boujiebarbb: it takes a real b*tch to be able to step back and check herself on some grown woman shit. \n",
      "\n",
      "I've always had a problem with relationships\n",
      "But that's what happens when you see the world through a broken lens\n",
      "M… https://t.co/5xJURs6k23 \n",
      "\n"
     ]
    }
   ],
   "source": [
    "#search_words = \"#murder\"\n",
    "date_since = \"2020-01-01\"\n",
    "\n",
    "# Collect tweets\n",
    "tweets = tw.Cursor(api.search,q=\"#*\",lang=\"en\",since=date_since).items(10)\n",
    "\n",
    "# Iterate and print tweets\n",
    "for tweet in tweets:\n",
    "    print(tweet.text,\"\\n\")\n",
    "\n"
   ]
  },
  {
   "cell_type": "code",
   "execution_count": null,
   "metadata": {},
   "outputs": [],
   "source": []
  },
  {
   "cell_type": "code",
   "execution_count": null,
   "metadata": {},
   "outputs": [],
   "source": []
  }
 ],
 "metadata": {
  "kernelspec": {
   "display_name": "Python 3",
   "language": "python",
   "name": "python3"
  },
  "language_info": {
   "codemirror_mode": {
    "name": "ipython",
    "version": 3
   },
   "file_extension": ".py",
   "mimetype": "text/x-python",
   "name": "python",
   "nbconvert_exporter": "python",
   "pygments_lexer": "ipython3",
   "version": "3.6.9"
  }
 },
 "nbformat": 4,
 "nbformat_minor": 4
}
