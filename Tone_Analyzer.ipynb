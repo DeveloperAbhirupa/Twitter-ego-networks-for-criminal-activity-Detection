{
 "cells": [
  {
   "cell_type": "code",
   "execution_count": 76,
   "metadata": {},
   "outputs": [],
   "source": [
    "from ibm_watson import ToneAnalyzerV3\n",
    "from ibm_cloud_sdk_core.authenticators import IAMAuthenticator\n",
    "\n",
    "authenticator = IAMAuthenticator('IqEdRTVdqJlT8caIhis9hxNC90nzKvj0VFwN5CVdA0MI')\n",
    "tone_analyzer = ToneAnalyzerV3(\n",
    "     version='2017-09-21',\n",
    "    authenticator=authenticator\n",
    ")\n",
    "\n",
    "tone_analyzer.set_service_url('https://api.us-east.tone-analyzer.watson.cloud.ibm.com')"
   ]
  },
  {
   "cell_type": "code",
   "execution_count": 77,
   "metadata": {},
   "outputs": [
    {
     "name": "stdout",
     "output_type": "stream",
     "text": [
      "Watson Tone Analyzer initialized\n"
     ]
    }
   ],
   "source": [
    "from ibm_watson import ApiException\n",
    "try:\n",
    "    print(\"Watson Tone Analyzer initialized\")\n",
    "except ApiException as ex:\n",
    "    print( \"Method failed with status code \" + str(ex.code) + \": \" + ex.message)"
   ]
  },
  {
   "cell_type": "code",
   "execution_count": 78,
   "metadata": {},
   "outputs": [
    {
     "name": "stdout",
     "output_type": "stream",
     "text": [
      "{\n",
      "  \"document_tone\": {\n",
      "    \"tones\": [\n",
      "      {\n",
      "        \"score\": 0.862286,\n",
      "        \"tone_id\": \"analytical\",\n",
      "        \"tone_name\": \"Analytical\"\n",
      "      }\n",
      "    ]\n",
      "  }\n",
      "}\n"
     ]
    }
   ],
   "source": [
    "import json\n",
    "\n",
    "tone_analyzer.set_service_url('https://api.eu-gb.tone-analyzer.watson.cloud.ibm.com/instances/1ea8911e-feb9-4174-8ce1-1379339ea808')\n",
    "\n",
    "text = 'If Zimmmerman free imma shoot everybody in Zion causing a ma ..'\n",
    "\n",
    "tone_analysis = tone_analyzer.tone(\n",
    "    {'text': text},\n",
    "    content_type='application/json'\n",
    ").get_result()\n",
    "print(json.dumps(tone_analysis, indent=2))"
   ]
  },
  {
   "cell_type": "code",
   "execution_count": 79,
   "metadata": {},
   "outputs": [
    {
     "data": {
      "text/html": [
       "<div>\n",
       "<style scoped>\n",
       "    .dataframe tbody tr th:only-of-type {\n",
       "        vertical-align: middle;\n",
       "    }\n",
       "\n",
       "    .dataframe tbody tr th {\n",
       "        vertical-align: top;\n",
       "    }\n",
       "\n",
       "    .dataframe thead th {\n",
       "        text-align: right;\n",
       "    }\n",
       "</style>\n",
       "<table border=\"1\" class=\"dataframe\">\n",
       "  <thead>\n",
       "    <tr style=\"text-align: right;\">\n",
       "      <th></th>\n",
       "      <th>User</th>\n",
       "      <th>Location</th>\n",
       "      <th>Tweet</th>\n",
       "    </tr>\n",
       "  </thead>\n",
       "  <tbody>\n",
       "    <tr>\n",
       "      <th>0</th>\n",
       "      <td>atxleb</td>\n",
       "      <td>NaN</td>\n",
       "      <td>@theinstantwin @JKDAnthony10 @grantstern @TheD...</td>\n",
       "    </tr>\n",
       "    <tr>\n",
       "      <th>1</th>\n",
       "      <td>ShayneOfficial</td>\n",
       "      <td>NaN</td>\n",
       "      <td>@SailorZZtar It’s actually cheaper to eat on t...</td>\n",
       "    </tr>\n",
       "    <tr>\n",
       "      <th>2</th>\n",
       "      <td>JamesJgm26</td>\n",
       "      <td>NaN</td>\n",
       "      <td>I will kill trump just to piss off the Russians</td>\n",
       "    </tr>\n",
       "    <tr>\n",
       "      <th>3</th>\n",
       "      <td>VerucaMarie</td>\n",
       "      <td>NaN</td>\n",
       "      <td>@DJSlash always. We had to put the rock to sle...</td>\n",
       "    </tr>\n",
       "    <tr>\n",
       "      <th>4</th>\n",
       "      <td>Her_Masterpiece</td>\n",
       "      <td>New York, USA</td>\n",
       "      <td>Just passed by a house with their icicle light...</td>\n",
       "    </tr>\n",
       "  </tbody>\n",
       "</table>\n",
       "</div>"
      ],
      "text/plain": [
       "              User       Location  \\\n",
       "0           atxleb            NaN   \n",
       "1   ShayneOfficial            NaN   \n",
       "2       JamesJgm26            NaN   \n",
       "3      VerucaMarie            NaN   \n",
       "4  Her_Masterpiece  New York, USA   \n",
       "\n",
       "                                               Tweet  \n",
       "0  @theinstantwin @JKDAnthony10 @grantstern @TheD...  \n",
       "1  @SailorZZtar It’s actually cheaper to eat on t...  \n",
       "2    I will kill trump just to piss off the Russians  \n",
       "3  @DJSlash always. We had to put the rock to sle...  \n",
       "4  Just passed by a house with their icicle light...  "
      ]
     },
     "execution_count": 79,
     "metadata": {},
     "output_type": "execute_result"
    }
   ],
   "source": [
    "import pandas as pd\n",
    "df_demo=pd.read_csv(\"demodata.csv\")\n",
    "df_demo"
   ]
  },
  {
   "cell_type": "code",
   "execution_count": 85,
   "metadata": {},
   "outputs": [
    {
     "name": "stdout",
     "output_type": "stream",
     "text": [
      "Process completed. Execute next code block\n"
     ]
    }
   ],
   "source": [
    "#Fetching tone of various tweets and extracting it from the json returned by personality insights\n",
    "index=0\n",
    "\n",
    "for i in df_demo.itertuples():\n",
    "    tone_analyzer.set_service_url('https://api.eu-gb.tone-analyzer.watson.cloud.ibm.com/instances/1ea8911e-feb9-4174-8ce1-1379339ea808')\n",
    "    text = i[3]\n",
    "    #print(text)\n",
    "    tone_analysis = tone_analyzer.tone(\n",
    "        {'text': text},\n",
    "        content_type='application/json'\n",
    "    ).get_result()\n",
    "    #print(tone_analysis['document_tone']['tones'],\"\\n\\n\")\n",
    "    #print(\"\\n\\n\\n\")\n",
    "    count=1\n",
    " \n",
    "    for v in tone_analysis['document_tone']['tones']:\n",
    "           #print (v['tone_id'])\n",
    "           df_demo.loc[index,count]=v['tone_id']\n",
    "           count=count+1;\n",
    "    \n",
    "    index=index+1\n",
    "    \n",
    "    #print(v['tone_id'])\n",
    "    \n",
    "print(\"Process completed. Execute next code block\")"
   ]
  },
  {
   "cell_type": "code",
   "execution_count": 86,
   "metadata": {},
   "outputs": [
    {
     "data": {
      "text/html": [
       "<div>\n",
       "<style scoped>\n",
       "    .dataframe tbody tr th:only-of-type {\n",
       "        vertical-align: middle;\n",
       "    }\n",
       "\n",
       "    .dataframe tbody tr th {\n",
       "        vertical-align: top;\n",
       "    }\n",
       "\n",
       "    .dataframe thead th {\n",
       "        text-align: right;\n",
       "    }\n",
       "</style>\n",
       "<table border=\"1\" class=\"dataframe\">\n",
       "  <thead>\n",
       "    <tr style=\"text-align: right;\">\n",
       "      <th></th>\n",
       "      <th>User</th>\n",
       "      <th>Location</th>\n",
       "      <th>Tweet</th>\n",
       "      <th>1</th>\n",
       "      <th>2</th>\n",
       "    </tr>\n",
       "  </thead>\n",
       "  <tbody>\n",
       "    <tr>\n",
       "      <th>0</th>\n",
       "      <td>atxleb</td>\n",
       "      <td>NaN</td>\n",
       "      <td>@theinstantwin @JKDAnthony10 @grantstern @TheD...</td>\n",
       "      <td>analytical</td>\n",
       "      <td>NaN</td>\n",
       "    </tr>\n",
       "    <tr>\n",
       "      <th>1</th>\n",
       "      <td>ShayneOfficial</td>\n",
       "      <td>NaN</td>\n",
       "      <td>@SailorZZtar It’s actually cheaper to eat on t...</td>\n",
       "      <td>joy</td>\n",
       "      <td>confident</td>\n",
       "    </tr>\n",
       "    <tr>\n",
       "      <th>2</th>\n",
       "      <td>JamesJgm26</td>\n",
       "      <td>NaN</td>\n",
       "      <td>I will kill trump just to piss off the Russians</td>\n",
       "      <td>anger</td>\n",
       "      <td>tentative</td>\n",
       "    </tr>\n",
       "    <tr>\n",
       "      <th>3</th>\n",
       "      <td>VerucaMarie</td>\n",
       "      <td>NaN</td>\n",
       "      <td>@DJSlash always. We had to put the rock to sle...</td>\n",
       "      <td>analytical</td>\n",
       "      <td>confident</td>\n",
       "    </tr>\n",
       "    <tr>\n",
       "      <th>4</th>\n",
       "      <td>Her_Masterpiece</td>\n",
       "      <td>New York, USA</td>\n",
       "      <td>Just passed by a house with their icicle light...</td>\n",
       "      <td>tentative</td>\n",
       "      <td>NaN</td>\n",
       "    </tr>\n",
       "  </tbody>\n",
       "</table>\n",
       "</div>"
      ],
      "text/plain": [
       "              User       Location  \\\n",
       "0           atxleb            NaN   \n",
       "1   ShayneOfficial            NaN   \n",
       "2       JamesJgm26            NaN   \n",
       "3      VerucaMarie            NaN   \n",
       "4  Her_Masterpiece  New York, USA   \n",
       "\n",
       "                                               Tweet           1          2  \n",
       "0  @theinstantwin @JKDAnthony10 @grantstern @TheD...  analytical        NaN  \n",
       "1  @SailorZZtar It’s actually cheaper to eat on t...         joy  confident  \n",
       "2    I will kill trump just to piss off the Russians       anger  tentative  \n",
       "3  @DJSlash always. We had to put the rock to sle...  analytical  confident  \n",
       "4  Just passed by a house with their icicle light...   tentative        NaN  "
      ]
     },
     "execution_count": 86,
     "metadata": {},
     "output_type": "execute_result"
    }
   ],
   "source": [
    "df_demo"
   ]
  },
  {
   "cell_type": "code",
   "execution_count": 52,
   "metadata": {},
   "outputs": [
    {
     "data": {
      "text/html": [
       "<div>\n",
       "<style scoped>\n",
       "    .dataframe tbody tr th:only-of-type {\n",
       "        vertical-align: middle;\n",
       "    }\n",
       "\n",
       "    .dataframe tbody tr th {\n",
       "        vertical-align: top;\n",
       "    }\n",
       "\n",
       "    .dataframe thead th {\n",
       "        text-align: right;\n",
       "    }\n",
       "</style>\n",
       "<table border=\"1\" class=\"dataframe\">\n",
       "  <thead>\n",
       "    <tr style=\"text-align: right;\">\n",
       "      <th></th>\n",
       "      <th>a</th>\n",
       "      <th>b</th>\n",
       "    </tr>\n",
       "  </thead>\n",
       "  <tbody>\n",
       "    <tr>\n",
       "      <th>0</th>\n",
       "      <td>1</td>\n",
       "      <td>5</td>\n",
       "    </tr>\n",
       "    <tr>\n",
       "      <th>1</th>\n",
       "      <td>2</td>\n",
       "      <td>6</td>\n",
       "    </tr>\n",
       "    <tr>\n",
       "      <th>2</th>\n",
       "      <td>3</td>\n",
       "      <td>7</td>\n",
       "    </tr>\n",
       "    <tr>\n",
       "      <th>3</th>\n",
       "      <td>4</td>\n",
       "      <td>8</td>\n",
       "    </tr>\n",
       "  </tbody>\n",
       "</table>\n",
       "</div>"
      ],
      "text/plain": [
       "   a  b\n",
       "0  1  5\n",
       "1  2  6\n",
       "2  3  7\n",
       "3  4  8"
      ]
     },
     "execution_count": 52,
     "metadata": {},
     "output_type": "execute_result"
    }
   ],
   "source": [
    "import pandas as pd \n",
    "  \n",
    "# Creating the first Dataframe using dictionary \n",
    "df1 = pd.DataFrame({\"a\":[1, 2, 3, 4], \n",
    "                    \"b\":[5, 6, 7, 8]}) \n",
    "\n",
    "\n",
    "df1"
   ]
  },
  {
   "cell_type": "code",
   "execution_count": 61,
   "metadata": {},
   "outputs": [
    {
     "data": {
      "text/html": [
       "<div>\n",
       "<style scoped>\n",
       "    .dataframe tbody tr th:only-of-type {\n",
       "        vertical-align: middle;\n",
       "    }\n",
       "\n",
       "    .dataframe tbody tr th {\n",
       "        vertical-align: top;\n",
       "    }\n",
       "\n",
       "    .dataframe thead th {\n",
       "        text-align: right;\n",
       "    }\n",
       "</style>\n",
       "<table border=\"1\" class=\"dataframe\">\n",
       "  <thead>\n",
       "    <tr style=\"text-align: right;\">\n",
       "      <th></th>\n",
       "      <th>a</th>\n",
       "      <th>b</th>\n",
       "      <th>1</th>\n",
       "    </tr>\n",
       "  </thead>\n",
       "  <tbody>\n",
       "    <tr>\n",
       "      <th>0</th>\n",
       "      <td>1</td>\n",
       "      <td>10</td>\n",
       "      <td>love</td>\n",
       "    </tr>\n",
       "    <tr>\n",
       "      <th>1</th>\n",
       "      <td>2</td>\n",
       "      <td>6</td>\n",
       "      <td>NaN</td>\n",
       "    </tr>\n",
       "    <tr>\n",
       "      <th>2</th>\n",
       "      <td>3</td>\n",
       "      <td>7</td>\n",
       "      <td>NaN</td>\n",
       "    </tr>\n",
       "    <tr>\n",
       "      <th>3</th>\n",
       "      <td>4</td>\n",
       "      <td>8</td>\n",
       "      <td>NaN</td>\n",
       "    </tr>\n",
       "  </tbody>\n",
       "</table>\n",
       "</div>"
      ],
      "text/plain": [
       "   a   b     1\n",
       "0  1  10  love\n",
       "1  2   6   NaN\n",
       "2  3   7   NaN\n",
       "3  4   8   NaN"
      ]
     },
     "execution_count": 61,
     "metadata": {},
     "output_type": "execute_result"
    }
   ],
   "source": [
    "df1.loc[0,1]=\"love\"\n",
    "df1\n"
   ]
  },
  {
   "cell_type": "code",
   "execution_count": null,
   "metadata": {},
   "outputs": [],
   "source": []
  }
 ],
 "metadata": {
  "kernelspec": {
   "display_name": "Python 3",
   "language": "python",
   "name": "python3"
  },
  "language_info": {
   "codemirror_mode": {
    "name": "ipython",
    "version": 3
   },
   "file_extension": ".py",
   "mimetype": "text/x-python",
   "name": "python",
   "nbconvert_exporter": "python",
   "pygments_lexer": "ipython3",
   "version": "3.6.9"
  }
 },
 "nbformat": 4,
 "nbformat_minor": 4
}
