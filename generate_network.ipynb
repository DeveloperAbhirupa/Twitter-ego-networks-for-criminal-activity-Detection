{
 "cells": [
  {
   "cell_type": "code",
   "execution_count": 17,
   "metadata": {},
   "outputs": [],
   "source": [
    "from datetime import datetime\n",
    "from sklearn.decomposition import PCA\n",
    "\n",
    "import csv\n",
    "import matplotlib.pyplot as plt\n",
    "import numpy as np\n",
    "import os.path\n",
    "import pandas as pd\n",
    "import re\n",
    "import seaborn as sns;  sns.set()\n",
    "import time\n",
    "import tweepy as tw\n",
    "import twitter\n",
    "\n",
    "#matplotlib inline\n",
    "plt.rcParams['figure.figsize'] = (10,7)\n",
    "\n",
    "import warnings\n",
    "warnings.filterwarnings(\"ignore\")\n",
    "#print twitter.__path__  \n",
    "\n",
    "import random\n",
    "random.seed(1000)\n"
   ]
  },
  {
   "cell_type": "code",
   "execution_count": 11,
   "metadata": {},
   "outputs": [],
   "source": [
    "consumer_key= 'lL5jwhZjazxKKy4WUJkcRHsLb'\n",
    "consumer_secret= 'r2f5XZ8f2bNtFSY72QZfdtrsNglGzIeRaHva2LoyZpVs14i0i8'\n",
    "access_token= '995760376808591361-Lkl0hmd0zsjCopgGZgf4sbWppCWOYqb'\n",
    "access_token_secret= 'ZMk77Ahi4s9IEfiCiK7riU7BeR6D7LG4C8o2We4pJpVa4'"
   ]
  },
  {
   "cell_type": "code",
   "execution_count": 10,
   "metadata": {},
   "outputs": [],
   "source": [
    "\n",
    "self_screen_name = 'JamesJgm26'            # Self\n",
    "\n",
    "# Keep appending data\n",
    "fof_filename     = \"edges.csv\"          # 'Alters' and their Source->Sink Edges. \n",
    "cache_filename   = \"cache.csv\"          # local cache of (TwitterId, FullName, UserName)\n",
    "\n",
    "# One-time-use files\n",
    "binaryMap_filename = \"binaryMap.csv\"   # Directed Graph. Adjacencies as 0/1.RowFollowCol\n",
    "cluster_filename   = \"results.csv\""
   ]
  },
  {
   "cell_type": "code",
   "execution_count": 15,
   "metadata": {},
   "outputs": [
    {
     "data": {
      "text/plain": [
       "<tweepy.api.API at 0x7f090bc45320>"
      ]
     },
     "execution_count": 15,
     "metadata": {},
     "output_type": "execute_result"
    }
   ],
   "source": [
    "api = twitter.Api(consumer_key=consumer_key ,\n",
    "                  consumer_secret=login_dict.get('consumer_secret'),\n",
    "                  access_token_key=login_dict.get('access_token_key'),\n",
    "                  access_token_secret=login_dict.get('access_token_secret'))\n",
    "api"
   ]
  },
  {
   "cell_type": "code",
   "execution_count": 16,
   "metadata": {},
   "outputs": [
    {
     "ename": "AttributeError",
     "evalue": "'API' object has no attribute 'GetUser'",
     "output_type": "error",
     "traceback": [
      "\u001b[0;31m---------------------------------------------------------------------------\u001b[0m",
      "\u001b[0;31mAttributeError\u001b[0m                            Traceback (most recent call last)",
      "\u001b[0;32m<ipython-input-16-0d76515740fe>\u001b[0m in \u001b[0;36m<module>\u001b[0;34m\u001b[0m\n\u001b[0;32m----> 1\u001b[0;31m \u001b[0mself_node\u001b[0m    \u001b[0;34m=\u001b[0m  \u001b[0mapi\u001b[0m\u001b[0;34m.\u001b[0m\u001b[0mGetUser\u001b[0m\u001b[0;34m(\u001b[0m\u001b[0mscreen_name\u001b[0m \u001b[0;34m=\u001b[0m \u001b[0mself_screen_name\u001b[0m\u001b[0;34m)\u001b[0m\u001b[0;34m\u001b[0m\u001b[0;34m\u001b[0m\u001b[0m\n\u001b[0m\u001b[1;32m      2\u001b[0m \u001b[0mself_node_id\u001b[0m \u001b[0;34m=\u001b[0m  \u001b[0mstr\u001b[0m\u001b[0;34m(\u001b[0m\u001b[0mself_node\u001b[0m\u001b[0;34m.\u001b[0m\u001b[0mid\u001b[0m\u001b[0;34m)\u001b[0m                      \u001b[0;31m# Twitter Id of Self\u001b[0m\u001b[0;34m\u001b[0m\u001b[0;34m\u001b[0m\u001b[0m\n\u001b[1;32m      3\u001b[0m \u001b[0;34m\u001b[0m\u001b[0m\n\u001b[1;32m      4\u001b[0m friends_of_self = api.GetFriendIDs(user_id = self_node_id, \n\u001b[1;32m      5\u001b[0m                                    \u001b[0mscreen_name\u001b[0m \u001b[0;34m=\u001b[0m \u001b[0mself_screen_name\u001b[0m \u001b[0;34m,\u001b[0m\u001b[0;34m\u001b[0m\u001b[0;34m\u001b[0m\u001b[0m\n",
      "\u001b[0;31mAttributeError\u001b[0m: 'API' object has no attribute 'GetUser'"
     ]
    }
   ],
   "source": [
    "\n",
    "self_node    =  api.GetUser(screen_name = self_screen_name)    \n",
    "self_node_id =  str(self_node.id)                      # Twitter Id of Self\n",
    "\n",
    "friends_of_self = api.GetFriendIDs(user_id = self_node_id, \n",
    "                                   screen_name = self_screen_name , \n",
    "                                   stringify_ids = True)\n",
    "index = [self_node_id] + friends_of_self"
   ]
  },
  {
   "cell_type": "code",
   "execution_count": null,
   "metadata": {},
   "outputs": [],
   "source": []
  }
 ],
 "metadata": {
  "kernelspec": {
   "display_name": "Python 3",
   "language": "python",
   "name": "python3"
  },
  "language_info": {
   "codemirror_mode": {
    "name": "ipython",
    "version": 3
   },
   "file_extension": ".py",
   "mimetype": "text/x-python",
   "name": "python",
   "nbconvert_exporter": "python",
   "pygments_lexer": "ipython3",
   "version": "3.6.9"
  }
 },
 "nbformat": 4,
 "nbformat_minor": 4
}
